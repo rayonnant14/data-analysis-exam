{
 "cells": [
  {
   "cell_type": "markdown",
   "metadata": {},
   "source": [
    "**Полина Смольникова**\n",
    "\n",
    "**Вариант 22**"
   ]
  },
  {
   "cell_type": "code",
   "execution_count": 1,
   "metadata": {},
   "outputs": [],
   "source": [
    "import pandas as pd\n",
    "import numpy as np\n",
    "import math\n",
    "import matplotlib.pyplot as plt\n",
    "import seaborn as sns\n",
    "from sklearn.manifold import MDS\n",
    "from sklearn.neighbors import DistanceMetric\n",
    "from sklearn.cluster import KMeans\n",
    "import warnings"
   ]
  },
  {
   "cell_type": "code",
   "execution_count": 2,
   "metadata": {},
   "outputs": [],
   "source": [
    "warnings.filterwarnings('ignore')"
   ]
  },
  {
   "cell_type": "code",
   "execution_count": 7,
   "metadata": {},
   "outputs": [],
   "source": [
    "def draw_corr_mat(df):\n",
    "    plt.figure(figsize=(12,10))\n",
    "    cor = df.corr()\n",
    "    sns.heatmap(cor, annot=True, cmap=plt.cm.Reds)\n",
    "    plt.show()"
   ]
  },
  {
   "cell_type": "markdown",
   "metadata": {},
   "source": [
    "### 1. Дать общую характеристику данным. Проведите первичный анализ данных. При необходимости проведите стандартизацию данных."
   ]
  },
  {
   "cell_type": "code",
   "execution_count": 3,
   "metadata": {},
   "outputs": [],
   "source": [
    "df = pd.read_excel('data/21MAG_Exam_Practice_22.xls', \n",
    "                   header=None)"
   ]
  },
  {
   "cell_type": "code",
   "execution_count": 4,
   "metadata": {},
   "outputs": [
    {
     "data": {
      "text/html": [
       "<div>\n",
       "<style scoped>\n",
       "    .dataframe tbody tr th:only-of-type {\n",
       "        vertical-align: middle;\n",
       "    }\n",
       "\n",
       "    .dataframe tbody tr th {\n",
       "        vertical-align: top;\n",
       "    }\n",
       "\n",
       "    .dataframe thead th {\n",
       "        text-align: right;\n",
       "    }\n",
       "</style>\n",
       "<table border=\"1\" class=\"dataframe\">\n",
       "  <thead>\n",
       "    <tr style=\"text-align: right;\">\n",
       "      <th></th>\n",
       "      <th>0</th>\n",
       "      <th>1</th>\n",
       "      <th>2</th>\n",
       "      <th>3</th>\n",
       "      <th>4</th>\n",
       "      <th>5</th>\n",
       "    </tr>\n",
       "  </thead>\n",
       "  <tbody>\n",
       "    <tr>\n",
       "      <th>0</th>\n",
       "      <td>39</td>\n",
       "      <td>1</td>\n",
       "      <td>9400</td>\n",
       "      <td>11</td>\n",
       "      <td>9000</td>\n",
       "      <td>93000</td>\n",
       "    </tr>\n",
       "    <tr>\n",
       "      <th>1</th>\n",
       "      <td>33</td>\n",
       "      <td>0</td>\n",
       "      <td>4900</td>\n",
       "      <td>7</td>\n",
       "      <td>4000</td>\n",
       "      <td>42000</td>\n",
       "    </tr>\n",
       "    <tr>\n",
       "      <th>2</th>\n",
       "      <td>50</td>\n",
       "      <td>3</td>\n",
       "      <td>14700</td>\n",
       "      <td>16</td>\n",
       "      <td>16000</td>\n",
       "      <td>153000</td>\n",
       "    </tr>\n",
       "    <tr>\n",
       "      <th>3</th>\n",
       "      <td>56</td>\n",
       "      <td>4</td>\n",
       "      <td>25500</td>\n",
       "      <td>19</td>\n",
       "      <td>28000</td>\n",
       "      <td>268000</td>\n",
       "    </tr>\n",
       "    <tr>\n",
       "      <th>4</th>\n",
       "      <td>50</td>\n",
       "      <td>3</td>\n",
       "      <td>16800</td>\n",
       "      <td>16</td>\n",
       "      <td>18000</td>\n",
       "      <td>175000</td>\n",
       "    </tr>\n",
       "  </tbody>\n",
       "</table>\n",
       "</div>"
      ],
      "text/plain": [
       "    0  1      2   3      4       5\n",
       "0  39  1   9400  11   9000   93000\n",
       "1  33  0   4900   7   4000   42000\n",
       "2  50  3  14700  16  16000  153000\n",
       "3  56  4  25500  19  28000  268000\n",
       "4  50  3  16800  16  18000  175000"
      ]
     },
     "execution_count": 4,
     "metadata": {},
     "output_type": "execute_result"
    }
   ],
   "source": [
    "df.head()"
   ]
  },
  {
   "cell_type": "markdown",
   "metadata": {},
   "source": [
    "**Рассмотрим основные характеристики данных**"
   ]
  },
  {
   "cell_type": "code",
   "execution_count": 5,
   "metadata": {},
   "outputs": [
    {
     "data": {
      "text/html": [
       "<div>\n",
       "<style scoped>\n",
       "    .dataframe tbody tr th:only-of-type {\n",
       "        vertical-align: middle;\n",
       "    }\n",
       "\n",
       "    .dataframe tbody tr th {\n",
       "        vertical-align: top;\n",
       "    }\n",
       "\n",
       "    .dataframe thead th {\n",
       "        text-align: right;\n",
       "    }\n",
       "</style>\n",
       "<table border=\"1\" class=\"dataframe\">\n",
       "  <thead>\n",
       "    <tr style=\"text-align: right;\">\n",
       "      <th></th>\n",
       "      <th>0</th>\n",
       "      <th>1</th>\n",
       "      <th>2</th>\n",
       "      <th>3</th>\n",
       "      <th>4</th>\n",
       "      <th>5</th>\n",
       "    </tr>\n",
       "  </thead>\n",
       "  <tbody>\n",
       "    <tr>\n",
       "      <th>count</th>\n",
       "      <td>50.000000</td>\n",
       "      <td>50.000000</td>\n",
       "      <td>50.000000</td>\n",
       "      <td>50.00000</td>\n",
       "      <td>50.000000</td>\n",
       "      <td>50.00000</td>\n",
       "    </tr>\n",
       "    <tr>\n",
       "      <th>mean</th>\n",
       "      <td>40.000000</td>\n",
       "      <td>1.980000</td>\n",
       "      <td>19992.000000</td>\n",
       "      <td>10.02000</td>\n",
       "      <td>20060.000000</td>\n",
       "      <td>199960.00000</td>\n",
       "    </tr>\n",
       "    <tr>\n",
       "      <th>std</th>\n",
       "      <td>8.045787</td>\n",
       "      <td>0.979171</td>\n",
       "      <td>10002.057747</td>\n",
       "      <td>5.02845</td>\n",
       "      <td>10096.291499</td>\n",
       "      <td>100021.82619</td>\n",
       "    </tr>\n",
       "    <tr>\n",
       "      <th>min</th>\n",
       "      <td>24.000000</td>\n",
       "      <td>0.000000</td>\n",
       "      <td>1500.000000</td>\n",
       "      <td>0.00000</td>\n",
       "      <td>0.000000</td>\n",
       "      <td>4000.00000</td>\n",
       "    </tr>\n",
       "    <tr>\n",
       "      <th>25%</th>\n",
       "      <td>35.000000</td>\n",
       "      <td>1.250000</td>\n",
       "      <td>12600.000000</td>\n",
       "      <td>6.00000</td>\n",
       "      <td>13000.000000</td>\n",
       "      <td>126500.00000</td>\n",
       "    </tr>\n",
       "    <tr>\n",
       "      <th>50%</th>\n",
       "      <td>40.000000</td>\n",
       "      <td>2.000000</td>\n",
       "      <td>17900.000000</td>\n",
       "      <td>10.00000</td>\n",
       "      <td>18500.000000</td>\n",
       "      <td>183000.00000</td>\n",
       "    </tr>\n",
       "    <tr>\n",
       "      <th>75%</th>\n",
       "      <td>46.000000</td>\n",
       "      <td>2.750000</td>\n",
       "      <td>29075.000000</td>\n",
       "      <td>14.00000</td>\n",
       "      <td>29750.000000</td>\n",
       "      <td>293000.00000</td>\n",
       "    </tr>\n",
       "    <tr>\n",
       "      <th>max</th>\n",
       "      <td>56.000000</td>\n",
       "      <td>4.000000</td>\n",
       "      <td>43300.000000</td>\n",
       "      <td>19.00000</td>\n",
       "      <td>44000.000000</td>\n",
       "      <td>437000.00000</td>\n",
       "    </tr>\n",
       "  </tbody>\n",
       "</table>\n",
       "</div>"
      ],
      "text/plain": [
       "               0          1             2         3             4  \\\n",
       "count  50.000000  50.000000     50.000000  50.00000     50.000000   \n",
       "mean   40.000000   1.980000  19992.000000  10.02000  20060.000000   \n",
       "std     8.045787   0.979171  10002.057747   5.02845  10096.291499   \n",
       "min    24.000000   0.000000   1500.000000   0.00000      0.000000   \n",
       "25%    35.000000   1.250000  12600.000000   6.00000  13000.000000   \n",
       "50%    40.000000   2.000000  17900.000000  10.00000  18500.000000   \n",
       "75%    46.000000   2.750000  29075.000000  14.00000  29750.000000   \n",
       "max    56.000000   4.000000  43300.000000  19.00000  44000.000000   \n",
       "\n",
       "                  5  \n",
       "count      50.00000  \n",
       "mean   199960.00000  \n",
       "std    100021.82619  \n",
       "min      4000.00000  \n",
       "25%    126500.00000  \n",
       "50%    183000.00000  \n",
       "75%    293000.00000  \n",
       "max    437000.00000  "
      ]
     },
     "execution_count": 5,
     "metadata": {},
     "output_type": "execute_result"
    }
   ],
   "source": [
    "df.describe()"
   ]
  },
  {
   "cell_type": "markdown",
   "metadata": {},
   "source": [
    "**Всего данные содержать 50 строк (50 сэмплов) и размещены в 6-мерном пространстве**"
   ]
  },
  {
   "cell_type": "code",
   "execution_count": 6,
   "metadata": {},
   "outputs": [
    {
     "data": {
      "text/plain": [
       "<seaborn.axisgrid.PairGrid at 0x18a76e47df0>"
      ]
     },
     "execution_count": 6,
     "metadata": {},
     "output_type": "execute_result"
    },
    {
     "data": {
      "image/png": "[encoded data removed]",
      "text/plain": [
       "<Figure size 1080x1080 with 42 Axes>"
      ]
     },
     "metadata": {
      "needs_background": "light"
     },
     "output_type": "display_data"
    }
   ],
   "source": [
    "sns.pairplot(df)"
   ]
  },
  {
   "cell_type": "code",
   "execution_count": 8,
   "metadata": {},
   "outputs": [
    {
     "data": {
      "image/png": "[encoded data removed]",
      "text/plain": [
       "<Figure size 864x720 with 2 Axes>"
      ]
     },
     "metadata": {
      "needs_background": "light"
     },
     "output_type": "display_data"
    }
   ],
   "source": [
    "draw_corr_mat(df)"
   ]
  },
  {
   "cell_type": "markdown",
   "metadata": {},
   "source": [
    "**Из графиков корреляции и попарного распределения данных видно, что некоторые признаки имеют очень высокую корреляцию между собой.**\n",
    "\n",
    "**Например: corr(0, 3) = 0.99, corr(2, 4) = 1.0, corr(2, 6) = 1.0**"
   ]
  },
  {
   "cell_type": "markdown",
   "metadata": {},
   "source": [
    "**Из этого можно сделать предположение о возможном успешном вложении данных, представленных в форме 6-мерного вектора в 2-мерное пространство**"
   ]
  },
  {
   "cell_type": "markdown",
   "metadata": {},
   "source": [
    "### Нормировка данных"
   ]
  },
  {
   "cell_type": "code",
   "execution_count": 12,
   "metadata": {},
   "outputs": [
    {
     "data": {
      "text/html": [
       "<div>\n",
       "<style scoped>\n",
       "    .dataframe tbody tr th:only-of-type {\n",
       "        vertical-align: middle;\n",
       "    }\n",
       "\n",
       "    .dataframe tbody tr th {\n",
       "        vertical-align: top;\n",
       "    }\n",
       "\n",
       "    .dataframe thead th {\n",
       "        text-align: right;\n",
       "    }\n",
       "</style>\n",
       "<table border=\"1\" class=\"dataframe\">\n",
       "  <thead>\n",
       "    <tr style=\"text-align: right;\">\n",
       "      <th></th>\n",
       "      <th>0</th>\n",
       "      <th>1</th>\n",
       "      <th>2</th>\n",
       "      <th>3</th>\n",
       "      <th>4</th>\n",
       "      <th>5</th>\n",
       "    </tr>\n",
       "  </thead>\n",
       "  <tbody>\n",
       "    <tr>\n",
       "      <th>count</th>\n",
       "      <td>5.000000e+01</td>\n",
       "      <td>5.000000e+01</td>\n",
       "      <td>5.000000e+01</td>\n",
       "      <td>5.000000e+01</td>\n",
       "      <td>5.000000e+01</td>\n",
       "      <td>5.000000e+01</td>\n",
       "    </tr>\n",
       "    <tr>\n",
       "      <th>mean</th>\n",
       "      <td>1.665335e-18</td>\n",
       "      <td>4.996004e-18</td>\n",
       "      <td>2.220446e-18</td>\n",
       "      <td>1.221245e-17</td>\n",
       "      <td>2.775558e-18</td>\n",
       "      <td>-5.551115e-19</td>\n",
       "    </tr>\n",
       "    <tr>\n",
       "      <th>std</th>\n",
       "      <td>1.428571e-01</td>\n",
       "      <td>1.428571e-01</td>\n",
       "      <td>1.428571e-01</td>\n",
       "      <td>1.428571e-01</td>\n",
       "      <td>1.428571e-01</td>\n",
       "      <td>1.428571e-01</td>\n",
       "    </tr>\n",
       "    <tr>\n",
       "      <th>min</th>\n",
       "      <td>-2.840883e-01</td>\n",
       "      <td>-2.888742e-01</td>\n",
       "      <td>-2.641171e-01</td>\n",
       "      <td>-2.846660e-01</td>\n",
       "      <td>-2.838383e-01</td>\n",
       "      <td>-2.798818e-01</td>\n",
       "    </tr>\n",
       "    <tr>\n",
       "      <th>25%</th>\n",
       "      <td>-8.877760e-02</td>\n",
       "      <td>-1.065041e-01</td>\n",
       "      <td>-1.055783e-01</td>\n",
       "      <td>-1.142073e-01</td>\n",
       "      <td>-9.989524e-02</td>\n",
       "      <td>-1.049200e-01</td>\n",
       "    </tr>\n",
       "    <tr>\n",
       "      <th>50%</th>\n",
       "      <td>0.000000e+00</td>\n",
       "      <td>2.917921e-03</td>\n",
       "      <td>-2.987957e-02</td>\n",
       "      <td>-5.681956e-04</td>\n",
       "      <td>-2.207317e-02</td>\n",
       "      <td>-2.422328e-02</td>\n",
       "    </tr>\n",
       "    <tr>\n",
       "      <th>75%</th>\n",
       "      <td>1.065331e-01</td>\n",
       "      <td>1.123399e-01</td>\n",
       "      <td>1.297304e-01</td>\n",
       "      <td>1.130709e-01</td>\n",
       "      <td>1.371083e-01</td>\n",
       "      <td>1.328853e-01</td>\n",
       "    </tr>\n",
       "    <tr>\n",
       "      <th>max</th>\n",
       "      <td>2.840883e-01</td>\n",
       "      <td>2.947100e-01</td>\n",
       "      <td>3.329029e-01</td>\n",
       "      <td>2.551198e-01</td>\n",
       "      <td>3.387382e-01</td>\n",
       "      <td>3.385547e-01</td>\n",
       "    </tr>\n",
       "  </tbody>\n",
       "</table>\n",
       "</div>"
      ],
      "text/plain": [
       "                  0             1             2             3             4  \\\n",
       "count  5.000000e+01  5.000000e+01  5.000000e+01  5.000000e+01  5.000000e+01   \n",
       "mean   1.665335e-18  4.996004e-18  2.220446e-18  1.221245e-17  2.775558e-18   \n",
       "std    1.428571e-01  1.428571e-01  1.428571e-01  1.428571e-01  1.428571e-01   \n",
       "min   -2.840883e-01 -2.888742e-01 -2.641171e-01 -2.846660e-01 -2.838383e-01   \n",
       "25%   -8.877760e-02 -1.065041e-01 -1.055783e-01 -1.142073e-01 -9.989524e-02   \n",
       "50%    0.000000e+00  2.917921e-03 -2.987957e-02 -5.681956e-04 -2.207317e-02   \n",
       "75%    1.065331e-01  1.123399e-01  1.297304e-01  1.130709e-01  1.371083e-01   \n",
       "max    2.840883e-01  2.947100e-01  3.329029e-01  2.551198e-01  3.387382e-01   \n",
       "\n",
       "                  5  \n",
       "count  5.000000e+01  \n",
       "mean  -5.551115e-19  \n",
       "std    1.428571e-01  \n",
       "min   -2.798818e-01  \n",
       "25%   -1.049200e-01  \n",
       "50%   -2.422328e-02  \n",
       "75%    1.328853e-01  \n",
       "max    3.385547e-01  "
      ]
     },
     "execution_count": 12,
     "metadata": {},
     "output_type": "execute_result"
    }
   ],
   "source": [
    "df_normalized = df - df.mean(axis=0)\n",
    "df_normalized = (df_normalized) / np.sqrt(df_normalized.pow(2).sum(axis=0))\n",
    "df_normalized.describe()"
   ]
  },
  {
   "cell_type": "markdown",
   "metadata": {},
   "source": [
    "**Проверка: l2 норма = 1 по колонкам**"
   ]
  },
  {
   "cell_type": "code",
   "execution_count": 14,
   "metadata": {},
   "outputs": [
    {
     "name": "stdout",
     "output_type": "stream",
     "text": [
      "The L2 Norm for 0 = 1\n",
      "The L2 Norm for 1 = 1\n",
      "The L2 Norm for 2 = 1\n",
      "The L2 Norm for 3 = 1\n",
      "The L2 Norm for 4 = 1\n",
      "The L2 Norm for 5 = 1\n"
     ]
    }
   ],
   "source": [
    "for norm_value, column_name in zip(np.linalg.norm(df_normalized, axis=0), df_normalized.columns):\n",
    "    print(f\"The L2 Norm for {column_name} = {round(norm_value)}\")\n",
    "    assert round(norm_value) == 1"
   ]
  },
  {
   "cell_type": "markdown",
   "metadata": {},
   "source": [
    "### 2. Используйте расстояние Чебышева и вычислите матрицу расстояний между объектами. "
   ]
  },
  {
   "cell_type": "code",
   "execution_count": 15,
   "metadata": {},
   "outputs": [],
   "source": [
    "dist = DistanceMetric.get_metric('chebyshev')\n",
    "dist_matrix = dist.pairwise(df_normalized)"
   ]
  },
  {
   "cell_type": "code",
   "execution_count": 16,
   "metadata": {},
   "outputs": [
    {
     "data": {
      "text/plain": [
       "array([[0.        , 0.14589604, 0.29179207, ..., 0.14589604, 0.29713881,\n",
       "        0.02829893],\n",
       "       [0.14589604, 0.        , 0.43768811, ..., 0.29179207, 0.43768811,\n",
       "        0.14589604],\n",
       "       [0.29179207, 0.43768811, 0.        , ..., 0.14589604, 0.19995885,\n",
       "        0.29179207],\n",
       "       ...,\n",
       "       [0.14589604, 0.29179207, 0.14589604, ..., 0.        , 0.25469041,\n",
       "        0.14589604],\n",
       "       [0.29713881, 0.43768811, 0.19995885, ..., 0.25469041, 0.        ,\n",
       "        0.32543774],\n",
       "       [0.02829893, 0.14589604, 0.29179207, ..., 0.14589604, 0.32543774,\n",
       "        0.        ]])"
      ]
     },
     "execution_count": 16,
     "metadata": {},
     "output_type": "execute_result"
    }
   ],
   "source": [
    "dist_matrix"
   ]
  },
  {
   "cell_type": "markdown",
   "metadata": {},
   "source": [
    "### 3. Проверьте, можно ли объекты с полученной матрицей расстояний  поместить в некоторое евклидово пространство с сохранением расстояний между объектами (т.е. так чтобы евклидовы расстояния между точками этого пространства были равны расстояниям Чебышева между исходными объектами)."
   ]
  },
  {
   "cell_type": "markdown",
   "metadata": {},
   "source": [
    "**Проверим, что матрица $B=-\\frac{1}{2}(I_n - \\frac{1}{n}J_n)D^2(I_n - \\frac{1}{n}J_n)$ неотрицательна определена**\n",
    "\n",
    "**Это будет свидетельствовать о возможном вложении 6-мерных объектов, описанных с помощью матрицы расстояний (расстояние Чебышева), в 6-мерное Евклидово пространство**"
   ]
  },
  {
   "cell_type": "code",
   "execution_count": 31,
   "metadata": {},
   "outputs": [
    {
     "name": "stdout",
     "output_type": "stream",
     "text": [
      "B:\n",
      " [[ 0.03454903  0.05795357 -0.01756425 -0.04378294 -0.01847142 -0.01268398]\n",
      " [ 0.05795357  0.10264376 -0.03673102 -0.08423536 -0.03763819 -0.00199275]\n",
      " [-0.01756425 -0.03673102  0.01546508  0.0280456   0.01406425 -0.00327966]\n",
      " [-0.04378294 -0.08423536  0.0280456   0.06945598  0.03091053 -0.00039381]\n",
      " [-0.01847142 -0.03763819  0.01406425  0.03091053  0.01365074 -0.00251591]\n",
      " [-0.01268398 -0.00199275 -0.00327966 -0.00039381 -0.00251591  0.02086611]]\n",
      "B is non-negative definite True\n"
     ]
    }
   ],
   "source": [
    "n = len(df_normalized.columns)\n",
    "dist_matrix_squared = np.zeros((n, n))\n",
    "\n",
    "\n",
    "for i in range(n):\n",
    "    for j in range(n):\n",
    "        dist_matrix_squared[i,j] = dist_matrix[i,j] * dist_matrix[i,j]\n",
    "        \n",
    "B = -1/2 * (np.eye(n) - 1/n * np.ones(n)) @ dist_matrix_squared @ (np.eye(n) - 1/n * np.ones(n))\n",
    "\n",
    "print(\"B:\\n\", B)\n",
    "\n",
    "check = np.all((np.linalg.eigvals(B)).round(3)) >= 0.0\n",
    "print(\"B is non-negative definite\", check)"
   ]
  },
  {
   "cell_type": "markdown",
   "metadata": {},
   "source": [
    "**Матрица B неотрицательна определена**"
   ]
  },
  {
   "cell_type": "markdown",
   "metadata": {},
   "source": [
    "### 4. Используйте любой из алгоритмов MDS для размещения объектов в евклидовом пространстве размерности 2. "
   ]
  },
  {
   "cell_type": "markdown",
   "metadata": {},
   "source": [
    "**Используем реализацию MDS из sklearn.manifold**"
   ]
  },
  {
   "cell_type": "code",
   "execution_count": 19,
   "metadata": {},
   "outputs": [
    {
     "name": "stdout",
     "output_type": "stream",
     "text": [
      "The new shape of X:  (50, 2)\n"
     ]
    }
   ],
   "source": [
    "model = MDS(n_components=2, \n",
    "            metric=True, \n",
    "            n_init=4, \n",
    "            max_iter=300, \n",
    "            verbose=0, \n",
    "            eps=0.001, \n",
    "            n_jobs=None, \n",
    "            random_state=42, \n",
    "            dissimilarity='precomputed')\n",
    "    \n",
    "df_mds_2d = model.fit_transform(dist_matrix)\n",
    "\n",
    "print('The new shape of X: ',df_mds_2d.shape)\n"
   ]
  },
  {
   "cell_type": "markdown",
   "metadata": {},
   "source": [
    "### 5. Оцените погрешность такого размещения. Постройте карту клиентов."
   ]
  },
  {
   "cell_type": "code",
   "execution_count": 20,
   "metadata": {},
   "outputs": [
    {
     "name": "stdout",
     "output_type": "stream",
     "text": [
      "Stress:  0.5932516518997193\n"
     ]
    }
   ],
   "source": [
    "print('Stress: ', model.stress_)"
   ]
  },
  {
   "cell_type": "markdown",
   "metadata": {},
   "source": [
    "**Построим карту клентов**"
   ]
  },
  {
   "cell_type": "code",
   "execution_count": 35,
   "metadata": {},
   "outputs": [
    {
     "data": {
      "image/png": "[encoded data removed]",
      "text/plain": [
       "<Figure size 720x576 with 1 Axes>"
      ]
     },
     "metadata": {
      "needs_background": "light"
     },
     "output_type": "display_data"
    }
   ],
   "source": [
    "plt.figure(figsize=(10,8))\n",
    "plt.scatter(df_mds_2d[:, 0], df_mds_2d[:, 1], label='MDS data', edgecolors='blue')\n",
    "plt.legend()\n",
    "plt.ylabel('Second Component')\n",
    "plt.xlabel('First Component')\n",
    "plt.show()"
   ]
  },
  {
   "cell_type": "markdown",
   "metadata": {},
   "source": [
    "### 6. Дайте комментарий к карте объектов"
   ]
  },
  {
   "cell_type": "markdown",
   "metadata": {},
   "source": [
    "**Попробуем проанализировать полученную с помощью MDS карту клиентов, использую k-means кластеризацию**\n",
    "\n",
    "**Найдем оптимальное число кластеров**"
   ]
  },
  {
   "cell_type": "markdown",
   "metadata": {},
   "source": [
    "Чтобы найти оптимальное число кластеров, воспользуемся методом локтя. В основе его лежит подсчет inertia, которая является суммой расстояний от точек до центра кластера."
   ]
  },
  {
   "cell_type": "markdown",
   "metadata": {},
   "source": [
    "$$\\sum_{i=1}^N(x_i - C_k)^2$$"
   ]
  },
  {
   "cell_type": "markdown",
   "metadata": {},
   "source": [
    "Суть метода локтя заключается в том, что мы строим графики убывания inertia в заисимости от количества кластеров и берем за оптимальное значение такое, при котором произошло последнее сильное уменьшение inertia. Или по другому, которая лежит на \"изгибе локтя\" графика"
   ]
  },
  {
   "cell_type": "code",
   "execution_count": 26,
   "metadata": {},
   "outputs": [],
   "source": [
    "def scree_plot(df, title):\n",
    "    inertia = []\n",
    "    for k in range(1, 10):\n",
    "        kmeans = KMeans(n_clusters=k).fit(df)\n",
    "        inertia.append(kmeans.inertia_)\n",
    "    plt.figure(figsize=(10, 8))\n",
    "    plt.plot(range(1, 10), inertia, marker='s');\n",
    "    plt.xlabel('Number of clusters')\n",
    "    plt.ylabel('Compactness')\n",
    "    plt.title('Scree plot of ' + title)\n",
    "    plt.show()"
   ]
  },
  {
   "cell_type": "code",
   "execution_count": 27,
   "metadata": {},
   "outputs": [
    {
     "data": {
      "image/png": "[encoded data removed]",
      "text/plain": [
       "<Figure size 720x576 with 1 Axes>"
      ]
     },
     "metadata": {
      "needs_background": "light"
     },
     "output_type": "display_data"
    }
   ],
   "source": [
    "scree_plot(df_mds_2d, '21MAG_Exam_Practice_22')"
   ]
  },
  {
   "cell_type": "markdown",
   "metadata": {},
   "source": [
    "**По методу локтя - оптимальное число кластеров 4**"
   ]
  },
  {
   "cell_type": "code",
   "execution_count": 38,
   "metadata": {},
   "outputs": [
    {
     "data": {
      "text/plain": [
       "<matplotlib.legend.Legend at 0x18a7c5f4190>"
      ]
     },
     "execution_count": 38,
     "metadata": {},
     "output_type": "execute_result"
    },
    {
     "data": {
      "image/png": "[encoded data removed]",
      "text/plain": [
       "<Figure size 720x576 with 1 Axes>"
      ]
     },
     "metadata": {
      "needs_background": "light"
     },
     "output_type": "display_data"
    }
   ],
   "source": [
    "kmeans = KMeans(n_clusters=4)\n",
    "kmeans.fit(df_mds_2d)\n",
    "y_kmeans = kmeans.predict(df_mds_2d)\n",
    "plt.figure(figsize=(10,8))\n",
    "plt.scatter(df_mds_2d[:, 0], df_mds_2d[:, 1], c=y_kmeans, s=50, cmap='viridis',\n",
    "            label='data')\n",
    "\n",
    "centers = kmeans.cluster_centers_\n",
    "plt.scatter(centers[:, 0], centers[:, 1], c='black', s=200, alpha=0.5,\n",
    "           label='cluster center')\n",
    "plt.ylabel('Second Component')\n",
    "plt.xlabel('First Component')\n",
    "plt.legend(loc='upper right')"
   ]
  },
  {
   "cell_type": "markdown",
   "metadata": {},
   "source": [
    "**Видны четкие границы кластеров.**"
   ]
  },
  {
   "cell_type": "markdown",
   "metadata": {},
   "source": [
    "**Рассмотрим структуру новой матрицы корреляции**"
   ]
  },
  {
   "cell_type": "code",
   "execution_count": 41,
   "metadata": {},
   "outputs": [
    {
     "data": {
      "image/png": "[encoded data removed]",
      "text/plain": [
       "<Figure size 864x720 with 2 Axes>"
      ]
     },
     "metadata": {
      "needs_background": "light"
     },
     "output_type": "display_data"
    }
   ],
   "source": [
    "draw_corr_mat(pd.DataFrame(df_mds_2d))"
   ]
  },
  {
   "cell_type": "markdown",
   "metadata": {},
   "source": [
    "**Структурно матрица корреляции стала лучше (признаки имеют очень слабую зависимость между собой)**"
   ]
  },
  {
   "cell_type": "markdown",
   "metadata": {},
   "source": [
    "**Рассмотрим какие данные попали в один кластер на примере 0 кластера**"
   ]
  },
  {
   "cell_type": "code",
   "execution_count": 44,
   "metadata": {},
   "outputs": [
    {
     "data": {
      "text/plain": [
       "0        46\n",
       "1         2\n",
       "2     15200\n",
       "3        14\n",
       "4     16000\n",
       "5    156000\n",
       "Name: 11, dtype: int64"
      ]
     },
     "metadata": {},
     "output_type": "display_data"
    },
    {
     "data": {
      "text/plain": [
       "0        40\n",
       "1         2\n",
       "2     14500\n",
       "3        10\n",
       "4     14000\n",
       "5    144000\n",
       "Name: 12, dtype: int64"
      ]
     },
     "metadata": {},
     "output_type": "display_data"
    },
    {
     "data": {
      "text/plain": [
       "0        47\n",
       "1         2\n",
       "2     12600\n",
       "3        15\n",
       "4     13000\n",
       "5    130000\n",
       "Name: 13, dtype: int64"
      ]
     },
     "metadata": {},
     "output_type": "display_data"
    },
    {
     "data": {
      "text/plain": [
       "0       45\n",
       "1        2\n",
       "2     8300\n",
       "3       14\n",
       "4     9000\n",
       "5    86000\n",
       "Name: 14, dtype: int64"
      ]
     },
     "metadata": {},
     "output_type": "display_data"
    },
    {
     "data": {
      "text/plain": [
       "0       47\n",
       "1        2\n",
       "2     8800\n",
       "3       15\n",
       "4     9000\n",
       "5    92000\n",
       "Name: 20, dtype: int64"
      ]
     },
     "metadata": {},
     "output_type": "display_data"
    },
    {
     "data": {
      "text/plain": [
       "0        44\n",
       "1         2\n",
       "2     17700\n",
       "3        13\n",
       "4     18000\n",
       "5    180000\n",
       "Name: 24, dtype: int64"
      ]
     },
     "metadata": {},
     "output_type": "display_data"
    },
    {
     "data": {
      "text/plain": [
       "0        41\n",
       "1         2\n",
       "2     11900\n",
       "3        11\n",
       "4     12000\n",
       "5    119000\n",
       "Name: 26, dtype: int64"
      ]
     },
     "metadata": {},
     "output_type": "display_data"
    },
    {
     "data": {
      "text/plain": [
       "0        45\n",
       "1         2\n",
       "2     12600\n",
       "3        13\n",
       "4     13000\n",
       "5    128000\n",
       "Name: 29, dtype: int64"
      ]
     },
     "metadata": {},
     "output_type": "display_data"
    },
    {
     "data": {
      "text/plain": [
       "0        40\n",
       "1         2\n",
       "2     21400\n",
       "3        10\n",
       "4     21000\n",
       "5    214000\n",
       "Name: 31, dtype: int64"
      ]
     },
     "metadata": {},
     "output_type": "display_data"
    },
    {
     "data": {
      "text/plain": [
       "0        42\n",
       "1         2\n",
       "2     14200\n",
       "3        11\n",
       "4     14000\n",
       "5    143000\n",
       "Name: 37, dtype: int64"
      ]
     },
     "metadata": {},
     "output_type": "display_data"
    },
    {
     "data": {
      "text/plain": [
       "0        37\n",
       "1         2\n",
       "2     20500\n",
       "3         8\n",
       "4     20000\n",
       "5    202000\n",
       "Name: 39, dtype: int64"
      ]
     },
     "metadata": {},
     "output_type": "display_data"
    },
    {
     "data": {
      "text/plain": [
       "0        39\n",
       "1         2\n",
       "2     13200\n",
       "3        10\n",
       "4     13000\n",
       "5    131000\n",
       "Name: 41, dtype: int64"
      ]
     },
     "metadata": {},
     "output_type": "display_data"
    },
    {
     "data": {
      "text/plain": [
       "0        46\n",
       "1         2\n",
       "2     13600\n",
       "3        14\n",
       "4     14000\n",
       "5    139000\n",
       "Name: 42, dtype: int64"
      ]
     },
     "metadata": {},
     "output_type": "display_data"
    },
    {
     "data": {
      "text/plain": [
       "0        44\n",
       "1         2\n",
       "2     12100\n",
       "3        13\n",
       "4     12000\n",
       "5    123000\n",
       "Name: 47, dtype: int64"
      ]
     },
     "metadata": {},
     "output_type": "display_data"
    }
   ],
   "source": [
    "for i, y in enumerate(y_kmeans):\n",
    "    if y == 0:\n",
    "        display(df.iloc[i])"
   ]
  },
  {
   "cell_type": "markdown",
   "metadata": {},
   "source": [
    "**Видно, что сэмплы, попавшие в 0 кластер очень похожи между собой. При более подробной информации о данных, можно было бы дать интерпретацию текущей кластеризации**"
   ]
  },
  {
   "cell_type": "code",
   "execution_count": null,
   "metadata": {},
   "outputs": [],
   "source": []
  }
 ],
 "metadata": {
  "kernelspec": {
   "display_name": "Python 3 (ipykernel)",
   "language": "python",
   "name": "python3"
  },
  "language_info": {
   "codemirror_mode": {
    "name": "ipython",
    "version": 3
   },
   "file_extension": ".py",
   "mimetype": "text/x-python",
   "name": "python",
   "nbconvert_exporter": "python",
   "pygments_lexer": "ipython3",
   "version": "3.8.10"
  }
 },
 "nbformat": 4,
 "nbformat_minor": 1
}
